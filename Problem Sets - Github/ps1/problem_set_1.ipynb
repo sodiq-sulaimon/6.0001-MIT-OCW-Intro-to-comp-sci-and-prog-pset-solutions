{
 "cells": [
  {
   "cell_type": "code",
   "execution_count": null,
   "id": "2e2d1b95",
   "metadata": {},
   "outputs": [],
   "source": [
    "#ps1_a_soln\n",
    "\"\"\"\n",
    "calculates how many months it will take to save up enough money for a downpayment\n",
    "\n",
    "\"\"\" \n",
    "\n",
    "annual_salary = float(input(\"Enter your annual salary: \"))\n",
    "portion_saved = float(input(\"Enter the percentage of your salary to save, as a decimal: \"))\n",
    "total_cost = float(input(\"Enter the total cost of your dream home\"))\n",
    "\n",
    "downpayment = 0.25 * total_cost\n",
    "salary = annual_salary / 12.0\n",
    "annual_roi = 0.04 # annual return on investment rate\n",
    "\n",
    "current_savings = 0.0\n",
    "months = 0\n",
    "\n",
    "while current_savings < downpayment :\n",
    "    current_savings += (salary * portion_saved) + (current_savings * annual_roi / 12)\n",
    "    months += 1\n",
    "print(\"Number of months:\", months)\n",
    "print(\"Your current saving is\", round(current_savings, 2))\n"
   ]
  },
  {
   "cell_type": "code",
   "execution_count": null,
   "id": "7565036f",
   "metadata": {},
   "outputs": [],
   "source": [
    "#ps1_b_soln\n",
    "\"\"\"\n",
    "calculates how many months it will take to save up enough money for a downpayment (with salary raise every 6 months)\n",
    "\n",
    "\"\"\"\n",
    "\n",
    "annual_salary = float(input(\"Enter your annual salary: \"))\n",
    "portion_saved = float(input(\"Enter the percentage of your salary to save, as a decimal: \"))\n",
    "total_cost = float(input(\"Enter the total cost of your dream home: \"))\n",
    "semi_annual_raise = float(input(\"Enter the semi-annual raise, as a decimal: \"))\n",
    "\n",
    "downpayment = 0.25 * total_cost\n",
    "annual_roi = 0.04 # annual return on investment rate\n",
    "\n",
    "current_savings = 0.0\n",
    "months = 0\n",
    "\n",
    "while current_savings < downpayment :\n",
    "    if months % 6 == 0 and months != 0:\n",
    "        annual_salary = annual_salary * (1 + semi_annual_raise)\n",
    "    current_savings += (annual_salary / 12.0 * portion_saved) + (current_savings * annual_roi / 12.0)\n",
    "    months += 1\n",
    "print(\"Number of months:\", months)\n",
    "print(\"Your current saving is\", round(current_savings, 2))\n"
   ]
  },
  {
   "cell_type": "code",
   "execution_count": 3,
   "id": "eac0b085",
   "metadata": {},
   "outputs": [
    {
     "name": "stdout",
     "output_type": "stream",
     "text": [
      "Enter your annual salary:150000\n",
      "Enter the semi-annual raise, as a decimal: 0.07\n",
      "Enter the total cost of your dream home: 1000000\n",
      "Enter the number of months to save up downpayment:12\n",
      "Steps in bisection search: 21\n",
      "savings rate that meets target:  0.12\n",
      "Savings: 283166\n"
     ]
    }
   ],
   "source": [
    "#ps1_c_soln\n",
    "\"\"\"\n",
    "calculates best rate to save per month to make the downpayment in a given number of years \n",
    "(with salary raise every 6 months) with bisection search.\n",
    "\n",
    "\"\"\" \n",
    "annual_salary = float(input(\"Enter your annual salary:\"))\n",
    "semi_annual_raise_rate = float(input(\"Enter the semi-annual raise, as a decimal: \"))\n",
    "house_cost = float(input(\"Enter the total cost of your dream home: \"))\n",
    "duration = int(input(\"Enter the number of months to save up downpayment:\"))\n",
    "downpayment = 0.25 * house_cost\n",
    "savings_roi = 0.04 / 12\n",
    "\n",
    "epsilon = 100\n",
    "high_rate = 0.12 # Note: the initial values of high and low savings rate affects the bisection search\n",
    "low_rate = 0.0001\n",
    "total_at_end = 0\n",
    "rate_saved = 0\n",
    "num_search = 0\n",
    "\n",
    "while True:\n",
    "    if int(total_at_end + epsilon) <= downpayment:\n",
    "        total_at_end = 0 # resets the balance to zero at the begining of each search\n",
    "        for month in range(1, duration + 1):\n",
    "            if month % 6 == 0:\n",
    "                annual_salary = annual_salary * (1 + semi_annual_raise_rate)\n",
    "            savings = rate_saved * annual_salary / 12.0\n",
    "            total_savings = savings * (1 + savings_roi)\n",
    "            total_at_end += int(total_savings)\n",
    "        num_search += 1\n",
    "    else:\n",
    "        break\n",
    "    if (total_at_end + epsilon) < downpayment: # rate is too low\n",
    "        low_rate = rate_saved\n",
    "    elif (total_at_end + epsilon) > downpayment: # rate is too high\n",
    "        high_rate = rate_saved\n",
    "    rate_saved = (low_rate + high_rate) / 2\n",
    "    \n",
    "print(\"Steps in bisection search:\", num_search)\n",
    "print(\"savings rate that meets target: \", round(rate_saved, 5))\n",
    "print(\"Savings:\", total_at_end)"
   ]
  },
  {
   "cell_type": "code",
   "execution_count": null,
   "id": "eb36aea6",
   "metadata": {},
   "outputs": [],
   "source": []
  }
 ],
 "metadata": {
  "kernelspec": {
   "display_name": "Python 3 (ipykernel)",
   "language": "python",
   "name": "python3"
  },
  "language_info": {
   "codemirror_mode": {
    "name": "ipython",
    "version": 3
   },
   "file_extension": ".py",
   "mimetype": "text/x-python",
   "name": "python",
   "nbconvert_exporter": "python",
   "pygments_lexer": "ipython3",
   "version": "3.9.12"
  }
 },
 "nbformat": 4,
 "nbformat_minor": 5
}
