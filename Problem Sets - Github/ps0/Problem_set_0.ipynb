{
 "cells": [
  {
   "cell_type": "markdown",
   "id": "7803e472",
   "metadata": {},
   "source": [
    " Write a program that does the following in order:\n",
    "1. Asks the user to enter a number “x”\n",
    "2. Asks the user to enter a number “y”\n",
    "3. Prints out number “x”, raised to the power “y”.\n",
    "4. Prints out the log (base 2) of “x”."
   ]
  },
  {
   "cell_type": "code",
   "execution_count": null,
   "id": "82073672",
   "metadata": {},
   "outputs": [],
   "source": [
    "import math\n",
    "\n",
    "x = int(input(\"Enter a number (x): \"))\n",
    "y = int(input(\"Enter a number (y): \"))\n",
    "\n",
    "print(\"x^y =\", x**y)\n",
    "\n",
    "log_2_x = math.log2(x)\n",
    "print(f\"log(base 2) of x is {log_2_x:.3}\")"
   ]
  },
  {
   "cell_type": "code",
   "execution_count": null,
   "id": "d613b01e",
   "metadata": {},
   "outputs": [],
   "source": []
  }
 ],
 "metadata": {
  "kernelspec": {
   "display_name": "Python 3 (ipykernel)",
   "language": "python",
   "name": "python3"
  },
  "language_info": {
   "codemirror_mode": {
    "name": "ipython",
    "version": 3
   },
   "file_extension": ".py",
   "mimetype": "text/x-python",
   "name": "python",
   "nbconvert_exporter": "python",
   "pygments_lexer": "ipython3",
   "version": "3.9.12"
  }
 },
 "nbformat": 4,
 "nbformat_minor": 5
}
